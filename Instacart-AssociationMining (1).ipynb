{
 "cells": [
  {
   "cell_type": "markdown",
   "metadata": {},
   "source": [
    "## Instacart Market Basket Analysis using PySpark\n",
    "\n",
    "The Instacart Online Grocery Shopping Dataset 2017”, Accessed from https://www.instacart.com/datasets/grocery-shopping-2017 on 01/17/2018. This anonymized dataset contains a sample of over 3 million grocery orders from more than 200,000 Instacart users. For each user, we provide between 4 and 100 of their orders, with the sequence of products purchased in each order. We also provide the week and hour of day the order was placed, and a relative measure of time between orders\n",
    "\n",
    "Reference: \n",
    "https://databricks.com/blog/2018/09/18/simplify-market-basket-analysis-using-fp-growth-on-databricks.html\n",
    "\n",
    "https://s3.us-east-2.amazonaws.com/databricks-dennylee/notebooks/Market+Basket+Analysis+using+Instacart+Online+Grocery+Dataset.html\n",
    "\n",
    "\n",
    "### Frequent Pattern Mining\n",
    "Spark MLlib implements two algorithms related to frequency pattern mining (FPM): FP-growth and PrefixSpan. The distinction is that FP-growth does not use order information in the itemsets, if any, while PrefixSpan is designed for sequential pattern mining where the itemsets are ordered. We will use FP-growth as the order information is not important for this use case."
   ]
  },
  {
   "cell_type": "markdown",
   "metadata": {},
   "source": [
    "### Load Data\n",
    "\n",
    "- Upload the instacart data into RCC\n",
    "- Load the Instacart data into HDFS"
   ]
  },
  {
   "cell_type": "code",
   "execution_count": null,
   "metadata": {},
   "outputs": [],
   "source": [
    "#!mkdir /home/$USER/data/instacart\n",
    "#!hdfs dfs -mkdir /user/$USER/data/instacart\n",
    "#!hadoop dfs -put /home/$USER/data/instacart /user/$USER/data/instacart"
   ]
  },
  {
   "cell_type": "markdown",
   "metadata": {},
   "source": [
    "### Data Model\n",
    "\n",
    "`orders` (3.4m rows, 206k users):\n",
    "* `order_id`: order identifier\n",
    "* `user_id`: customer identifier\n",
    "* `eval_set`: which evaluation set this order belongs in (see `SET` described below)\n",
    "* `order_number`: the order sequence number for this user (1 = first, n = nth)\n",
    "* `order_dow`: the day of the week the order was placed on\n",
    "* `order_hour_of_day`: the hour of the day the order was placed on\n",
    "* `days_since_prior`: days since the last order, capped at 30 (with NAs for `order_number` = 1)\n",
    "\n",
    "`products` (50k rows):\n",
    "* `product_id`: product identifier\n",
    "* `product_name`: name of the product\n",
    "* `aisle_id`: foreign key\n",
    "* `department_id`: foreign key\n",
    "\n",
    "`aisles` (134 rows):\n",
    "* `aisle_id`: aisle identifier\n",
    "* `aisle`: the name of the aisle\n",
    "\n",
    "`departments` (21 rows):\n",
    "* `department_id`: department identifier\n",
    "* `department`: the name of the department\n",
    "\n",
    "`order_products__SET` (30m+ rows):\n",
    "* `order_id`: foreign key\n",
    "* `product_id`: foreign key\n",
    "* `add_to_cart_order`: order in which each product was added to cart\n",
    "* `reordered`: 1 if this product has been ordered by this user in the past, 0 otherwise\n",
    "\n",
    "where `SET` is one of the four following evaluation sets (`eval_set` in `orders`):\n",
    "* `\"prior\"`: orders prior to that users most recent order (~3.2m orders)\n",
    "* `\"train\"`: training data supplied to participants (~131k orders)\n",
    "* `\"test\"`: test data reserved for machine learning competitions (~75k orders)"
   ]
  },
  {
   "cell_type": "code",
   "execution_count": 1,
   "metadata": {},
   "outputs": [
    {
     "name": "stdout",
     "output_type": "stream",
     "text": [
      ":: loading settings :: url = jar:file:/usr/lib/spark/jars/ivy-2.5.1.jar!/org/apache/ivy/core/settings/ivysettings.xml\n"
     ]
    },
    {
     "name": "stderr",
     "output_type": "stream",
     "text": [
      "Ivy Default Cache set to: /root/.ivy2/cache\n",
      "The jars for the packages stored in: /root/.ivy2/jars\n",
      "com.johnsnowlabs.nlp#spark-nlp_2.12 added as a dependency\n",
      "graphframes#graphframes added as a dependency\n",
      ":: resolving dependencies :: org.apache.spark#spark-submit-parent-a906b7f4-930b-4f1f-9173-df8911ab0563;1.0\n",
      "\tconfs: [default]\n",
      "\tfound com.johnsnowlabs.nlp#spark-nlp_2.12;4.4.0 in central\n",
      "\tfound com.typesafe#config;1.4.2 in central\n",
      "\tfound org.rocksdb#rocksdbjni;6.29.5 in central\n",
      "\tfound com.amazonaws#aws-java-sdk-bundle;1.11.828 in central\n",
      "\tfound com.github.universal-automata#liblevenshtein;3.0.0 in central\n",
      "\tfound com.google.protobuf#protobuf-java-util;3.0.0-beta-3 in central\n",
      "\tfound com.google.protobuf#protobuf-java;3.0.0-beta-3 in central\n",
      "\tfound com.google.code.gson#gson;2.3 in central\n",
      "\tfound it.unimi.dsi#fastutil;7.0.12 in central\n",
      "\tfound org.projectlombok#lombok;1.16.8 in central\n",
      "\tfound com.google.cloud#google-cloud-storage;2.16.0 in central\n",
      "\tfound com.google.guava#guava;31.1-jre in central\n",
      "\tfound com.google.guava#failureaccess;1.0.1 in central\n",
      "\tfound com.google.guava#listenablefuture;9999.0-empty-to-avoid-conflict-with-guava in central\n",
      "\tfound com.google.errorprone#error_prone_annotations;2.16 in central\n",
      "\tfound com.google.j2objc#j2objc-annotations;1.3 in central\n",
      "\tfound com.google.http-client#google-http-client;1.42.3 in central\n",
      "\tfound io.opencensus#opencensus-contrib-http-util;0.31.1 in central\n",
      "\tfound com.google.http-client#google-http-client-jackson2;1.42.3 in central\n",
      "\tfound com.google.http-client#google-http-client-gson;1.42.3 in central\n",
      "\tfound com.google.api-client#google-api-client;2.1.1 in central\n",
      "\tfound commons-codec#commons-codec;1.15 in central\n",
      "\tfound com.google.oauth-client#google-oauth-client;1.34.1 in central\n",
      "\tfound com.google.http-client#google-http-client-apache-v2;1.42.3 in central\n",
      "\tfound com.google.apis#google-api-services-storage;v1-rev20220705-2.0.0 in central\n",
      "\tfound com.google.code.gson#gson;2.10 in central\n",
      "\tfound com.google.cloud#google-cloud-core;2.9.0 in central\n",
      "\tfound com.google.auto.value#auto-value-annotations;1.10.1 in central\n",
      "\tfound com.google.cloud#google-cloud-core-http;2.9.0 in central\n",
      "\tfound com.google.http-client#google-http-client-appengine;1.42.3 in central\n",
      "\tfound com.google.api#gax-httpjson;0.105.1 in central\n",
      "\tfound com.google.cloud#google-cloud-core-grpc;2.9.0 in central\n",
      "\tfound io.grpc#grpc-core;1.51.0 in central\n",
      "\tfound com.google.api#gax;2.20.1 in central\n",
      "\tfound com.google.api#gax-grpc;2.20.1 in central\n",
      "\tfound io.grpc#grpc-alts;1.51.0 in central\n",
      "\tfound io.grpc#grpc-grpclb;1.51.0 in central\n",
      "\tfound org.conscrypt#conscrypt-openjdk-uber;2.5.2 in central\n",
      "\tfound io.grpc#grpc-protobuf;1.51.0 in central\n",
      "\tfound com.google.auth#google-auth-library-credentials;1.13.0 in central\n",
      "\tfound com.google.auth#google-auth-library-oauth2-http;1.13.0 in central\n",
      "\tfound com.google.api#api-common;2.2.2 in central\n",
      "\tfound javax.annotation#javax.annotation-api;1.3.2 in central\n",
      "\tfound io.opencensus#opencensus-api;0.31.1 in central\n",
      "\tfound io.grpc#grpc-context;1.51.0 in central\n",
      "\tfound com.google.api.grpc#proto-google-iam-v1;1.6.22 in central\n",
      "\tfound com.google.protobuf#protobuf-java;3.21.10 in central\n",
      "\tfound com.google.protobuf#protobuf-java-util;3.21.10 in central\n",
      "\tfound com.google.api.grpc#proto-google-common-protos;2.11.0 in central\n",
      "\tfound org.threeten#threetenbp;1.6.4 in central\n",
      "\tfound com.google.api.grpc#proto-google-cloud-storage-v2;2.16.0-alpha in central\n",
      "\tfound com.google.api.grpc#grpc-google-cloud-storage-v2;2.16.0-alpha in central\n",
      "\tfound com.google.api.grpc#gapic-google-cloud-storage-v2;2.16.0-alpha in central\n",
      "\tfound com.fasterxml.jackson.core#jackson-core;2.14.1 in central\n",
      "\tfound com.google.code.findbugs#jsr305;3.0.2 in central\n",
      "\tfound io.grpc#grpc-api;1.51.0 in central\n",
      "\tfound io.grpc#grpc-auth;1.51.0 in central\n",
      "\tfound io.grpc#grpc-stub;1.51.0 in central\n",
      "\tfound org.checkerframework#checker-qual;3.28.0 in central\n",
      "\tfound com.google.api.grpc#grpc-google-iam-v1;1.6.22 in central\n",
      "\tfound io.grpc#grpc-protobuf-lite;1.51.0 in central\n",
      "\tfound com.google.android#annotations;4.1.1.4 in central\n",
      "\tfound org.codehaus.mojo#animal-sniffer-annotations;1.22 in central\n",
      "\tfound io.grpc#grpc-netty-shaded;1.51.0 in central\n",
      "\tfound io.perfmark#perfmark-api;0.26.0 in central\n",
      "\tfound io.grpc#grpc-googleapis;1.51.0 in central\n",
      "\tfound io.grpc#grpc-xds;1.51.0 in central\n",
      "\tfound io.opencensus#opencensus-proto;0.2.0 in central\n",
      "\tfound io.grpc#grpc-services;1.51.0 in central\n",
      "\tfound com.google.re2j#re2j;1.6 in central\n",
      "\tfound com.navigamez#greex;1.0 in central\n",
      "\tfound dk.brics.automaton#automaton;1.11-8 in central\n",
      "\tfound com.johnsnowlabs.nlp#tensorflow-cpu_2.12;0.4.4 in central\n",
      "\tfound graphframes#graphframes;0.8.2-spark3.1-s_2.12 in spark-packages\n",
      "\tfound org.slf4j#slf4j-api;1.7.16 in central\n",
      "downloading https://repo1.maven.org/maven2/com/johnsnowlabs/nlp/spark-nlp_2.12/4.4.0/spark-nlp_2.12-4.4.0.jar ...\n",
      "\t[SUCCESSFUL ] com.johnsnowlabs.nlp#spark-nlp_2.12;4.4.0!spark-nlp_2.12.jar (307ms)\n",
      "downloading https://repos.spark-packages.org/graphframes/graphframes/0.8.2-spark3.1-s_2.12/graphframes-0.8.2-spark3.1-s_2.12.jar ...\n",
      "\t[SUCCESSFUL ] graphframes#graphframes;0.8.2-spark3.1-s_2.12!graphframes.jar (44ms)\n",
      "downloading https://repo1.maven.org/maven2/com/typesafe/config/1.4.2/config-1.4.2.jar ...\n",
      "\t[SUCCESSFUL ] com.typesafe#config;1.4.2!config.jar(bundle) (19ms)\n",
      "downloading https://repo1.maven.org/maven2/org/rocksdb/rocksdbjni/6.29.5/rocksdbjni-6.29.5.jar ...\n",
      "\t[SUCCESSFUL ] org.rocksdb#rocksdbjni;6.29.5!rocksdbjni.jar (207ms)\n",
      "downloading https://repo1.maven.org/maven2/com/amazonaws/aws-java-sdk-bundle/1.11.828/aws-java-sdk-bundle-1.11.828.jar ...\n",
      "\t[SUCCESSFUL ] com.amazonaws#aws-java-sdk-bundle;1.11.828!aws-java-sdk-bundle.jar (684ms)\n",
      "downloading https://repo1.maven.org/maven2/com/github/universal-automata/liblevenshtein/3.0.0/liblevenshtein-3.0.0.jar ...\n",
      "\t[SUCCESSFUL ] com.github.universal-automata#liblevenshtein;3.0.0!liblevenshtein.jar (21ms)\n",
      "downloading https://repo1.maven.org/maven2/com/google/cloud/google-cloud-storage/2.16.0/google-cloud-storage-2.16.0.jar ...\n",
      "\t[SUCCESSFUL ] com.google.cloud#google-cloud-storage;2.16.0!google-cloud-storage.jar (16ms)\n",
      "downloading https://repo1.maven.org/maven2/com/navigamez/greex/1.0/greex-1.0.jar ...\n",
      "\t[SUCCESSFUL ] com.navigamez#greex;1.0!greex.jar (19ms)\n",
      "downloading https://repo1.maven.org/maven2/com/johnsnowlabs/nlp/tensorflow-cpu_2.12/0.4.4/tensorflow-cpu_2.12-0.4.4.jar ...\n",
      "\t[SUCCESSFUL ] com.johnsnowlabs.nlp#tensorflow-cpu_2.12;0.4.4!tensorflow-cpu_2.12.jar (1304ms)\n",
      "downloading https://repo1.maven.org/maven2/it/unimi/dsi/fastutil/7.0.12/fastutil-7.0.12.jar ...\n",
      "\t[SUCCESSFUL ] it.unimi.dsi#fastutil;7.0.12!fastutil.jar (109ms)\n",
      "downloading https://repo1.maven.org/maven2/org/projectlombok/lombok/1.16.8/lombok-1.16.8.jar ...\n",
      "\t[SUCCESSFUL ] org.projectlombok#lombok;1.16.8!lombok.jar (18ms)\n",
      "downloading https://repo1.maven.org/maven2/com/google/guava/guava/31.1-jre/guava-31.1-jre.jar ...\n",
      "\t[SUCCESSFUL ] com.google.guava#guava;31.1-jre!guava.jar(bundle) (19ms)\n",
      "downloading https://repo1.maven.org/maven2/com/google/guava/failureaccess/1.0.1/failureaccess-1.0.1.jar ...\n",
      "\t[SUCCESSFUL ] com.google.guava#failureaccess;1.0.1!failureaccess.jar(bundle) (16ms)\n",
      "downloading https://repo1.maven.org/maven2/com/google/guava/listenablefuture/9999.0-empty-to-avoid-conflict-with-guava/listenablefuture-9999.0-empty-to-avoid-conflict-with-guava.jar ...\n",
      "\t[SUCCESSFUL ] com.google.guava#listenablefuture;9999.0-empty-to-avoid-conflict-with-guava!listenablefuture.jar (17ms)\n",
      "downloading https://repo1.maven.org/maven2/com/google/errorprone/error_prone_annotations/2.16/error_prone_annotations-2.16.jar ...\n",
      "\t[SUCCESSFUL ] com.google.errorprone#error_prone_annotations;2.16!error_prone_annotations.jar (14ms)\n",
      "downloading https://repo1.maven.org/maven2/com/google/j2objc/j2objc-annotations/1.3/j2objc-annotations-1.3.jar ...\n",
      "\t[SUCCESSFUL ] com.google.j2objc#j2objc-annotations;1.3!j2objc-annotations.jar (13ms)\n",
      "downloading https://repo1.maven.org/maven2/com/google/http-client/google-http-client/1.42.3/google-http-client-1.42.3.jar ...\n",
      "\t[SUCCESSFUL ] com.google.http-client#google-http-client;1.42.3!google-http-client.jar (14ms)\n",
      "downloading https://repo1.maven.org/maven2/io/opencensus/opencensus-contrib-http-util/0.31.1/opencensus-contrib-http-util-0.31.1.jar ...\n",
      "\t[SUCCESSFUL ] io.opencensus#opencensus-contrib-http-util;0.31.1!opencensus-contrib-http-util.jar (15ms)\n",
      "downloading https://repo1.maven.org/maven2/com/google/http-client/google-http-client-jackson2/1.42.3/google-http-client-jackson2-1.42.3.jar ...\n",
      "\t[SUCCESSFUL ] com.google.http-client#google-http-client-jackson2;1.42.3!google-http-client-jackson2.jar (13ms)\n",
      "downloading https://repo1.maven.org/maven2/com/google/http-client/google-http-client-gson/1.42.3/google-http-client-gson-1.42.3.jar ...\n",
      "\t[SUCCESSFUL ] com.google.http-client#google-http-client-gson;1.42.3!google-http-client-gson.jar (12ms)\n",
      "downloading https://repo1.maven.org/maven2/com/google/api-client/google-api-client/2.1.1/google-api-client-2.1.1.jar ...\n",
      "\t[SUCCESSFUL ] com.google.api-client#google-api-client;2.1.1!google-api-client.jar (16ms)\n",
      "downloading https://repo1.maven.org/maven2/commons-codec/commons-codec/1.15/commons-codec-1.15.jar ...\n",
      "\t[SUCCESSFUL ] commons-codec#commons-codec;1.15!commons-codec.jar (16ms)\n",
      "downloading https://repo1.maven.org/maven2/com/google/oauth-client/google-oauth-client/1.34.1/google-oauth-client-1.34.1.jar ...\n",
      "\t[SUCCESSFUL ] com.google.oauth-client#google-oauth-client;1.34.1!google-oauth-client.jar (12ms)\n",
      "downloading https://repo1.maven.org/maven2/com/google/http-client/google-http-client-apache-v2/1.42.3/google-http-client-apache-v2-1.42.3.jar ...\n",
      "\t[SUCCESSFUL ] com.google.http-client#google-http-client-apache-v2;1.42.3!google-http-client-apache-v2.jar (12ms)\n",
      "downloading https://repo1.maven.org/maven2/com/google/apis/google-api-services-storage/v1-rev20220705-2.0.0/google-api-services-storage-v1-rev20220705-2.0.0.jar ...\n",
      "\t[SUCCESSFUL ] com.google.apis#google-api-services-storage;v1-rev20220705-2.0.0!google-api-services-storage.jar (13ms)\n",
      "downloading https://repo1.maven.org/maven2/com/google/code/gson/gson/2.10/gson-2.10.jar ...\n",
      "\t[SUCCESSFUL ] com.google.code.gson#gson;2.10!gson.jar (13ms)\n",
      "downloading https://repo1.maven.org/maven2/com/google/cloud/google-cloud-core/2.9.0/google-cloud-core-2.9.0.jar ...\n",
      "\t[SUCCESSFUL ] com.google.cloud#google-cloud-core;2.9.0!google-cloud-core.jar (13ms)\n",
      "downloading https://repo1.maven.org/maven2/com/google/auto/value/auto-value-annotations/1.10.1/auto-value-annotations-1.10.1.jar ...\n",
      "\t[SUCCESSFUL ] com.google.auto.value#auto-value-annotations;1.10.1!auto-value-annotations.jar (12ms)\n",
      "downloading https://repo1.maven.org/maven2/com/google/cloud/google-cloud-core-http/2.9.0/google-cloud-core-http-2.9.0.jar ...\n",
      "\t[SUCCESSFUL ] com.google.cloud#google-cloud-core-http;2.9.0!google-cloud-core-http.jar (12ms)\n",
      "downloading https://repo1.maven.org/maven2/com/google/http-client/google-http-client-appengine/1.42.3/google-http-client-appengine-1.42.3.jar ...\n",
      "\t[SUCCESSFUL ] com.google.http-client#google-http-client-appengine;1.42.3!google-http-client-appengine.jar (15ms)\n",
      "downloading https://repo1.maven.org/maven2/com/google/api/gax-httpjson/0.105.1/gax-httpjson-0.105.1.jar ...\n",
      "\t[SUCCESSFUL ] com.google.api#gax-httpjson;0.105.1!gax-httpjson.jar (13ms)\n",
      "downloading https://repo1.maven.org/maven2/com/google/cloud/google-cloud-core-grpc/2.9.0/google-cloud-core-grpc-2.9.0.jar ...\n",
      "\t[SUCCESSFUL ] com.google.cloud#google-cloud-core-grpc;2.9.0!google-cloud-core-grpc.jar (13ms)\n",
      "downloading https://repo1.maven.org/maven2/io/grpc/grpc-core/1.51.0/grpc-core-1.51.0.jar ...\n",
      "\t[SUCCESSFUL ] io.grpc#grpc-core;1.51.0!grpc-core.jar (14ms)\n",
      "downloading https://repo1.maven.org/maven2/com/google/api/gax/2.20.1/gax-2.20.1.jar ...\n",
      "\t[SUCCESSFUL ] com.google.api#gax;2.20.1!gax.jar (16ms)\n",
      "downloading https://repo1.maven.org/maven2/com/google/api/gax-grpc/2.20.1/gax-grpc-2.20.1.jar ...\n",
      "\t[SUCCESSFUL ] com.google.api#gax-grpc;2.20.1!gax-grpc.jar (13ms)\n",
      "downloading https://repo1.maven.org/maven2/io/grpc/grpc-alts/1.51.0/grpc-alts-1.51.0.jar ...\n",
      "\t[SUCCESSFUL ] io.grpc#grpc-alts;1.51.0!grpc-alts.jar (18ms)\n",
      "downloading https://repo1.maven.org/maven2/io/grpc/grpc-grpclb/1.51.0/grpc-grpclb-1.51.0.jar ...\n",
      "\t[SUCCESSFUL ] io.grpc#grpc-grpclb;1.51.0!grpc-grpclb.jar (13ms)\n",
      "downloading https://repo1.maven.org/maven2/org/conscrypt/conscrypt-openjdk-uber/2.5.2/conscrypt-openjdk-uber-2.5.2.jar ...\n",
      "\t[SUCCESSFUL ] org.conscrypt#conscrypt-openjdk-uber;2.5.2!conscrypt-openjdk-uber.jar (27ms)\n",
      "downloading https://repo1.maven.org/maven2/io/grpc/grpc-protobuf/1.51.0/grpc-protobuf-1.51.0.jar ...\n",
      "\t[SUCCESSFUL ] io.grpc#grpc-protobuf;1.51.0!grpc-protobuf.jar (12ms)\n",
      "downloading https://repo1.maven.org/maven2/com/google/auth/google-auth-library-credentials/1.13.0/google-auth-library-credentials-1.13.0.jar ...\n",
      "\t[SUCCESSFUL ] com.google.auth#google-auth-library-credentials;1.13.0!google-auth-library-credentials.jar (12ms)\n",
      "downloading https://repo1.maven.org/maven2/com/google/auth/google-auth-library-oauth2-http/1.13.0/google-auth-library-oauth2-http-1.13.0.jar ...\n",
      "\t[SUCCESSFUL ] com.google.auth#google-auth-library-oauth2-http;1.13.0!google-auth-library-oauth2-http.jar (13ms)\n",
      "downloading https://repo1.maven.org/maven2/com/google/api/api-common/2.2.2/api-common-2.2.2.jar ...\n",
      "\t[SUCCESSFUL ] com.google.api#api-common;2.2.2!api-common.jar (14ms)\n",
      "downloading https://repo1.maven.org/maven2/javax/annotation/javax.annotation-api/1.3.2/javax.annotation-api-1.3.2.jar ...\n",
      "\t[SUCCESSFUL ] javax.annotation#javax.annotation-api;1.3.2!javax.annotation-api.jar (14ms)\n",
      "downloading https://repo1.maven.org/maven2/io/opencensus/opencensus-api/0.31.1/opencensus-api-0.31.1.jar ...\n",
      "\t[SUCCESSFUL ] io.opencensus#opencensus-api;0.31.1!opencensus-api.jar (14ms)\n",
      "downloading https://repo1.maven.org/maven2/io/grpc/grpc-context/1.51.0/grpc-context-1.51.0.jar ...\n",
      "\t[SUCCESSFUL ] io.grpc#grpc-context;1.51.0!grpc-context.jar (13ms)\n",
      "downloading https://repo1.maven.org/maven2/com/google/api/grpc/proto-google-iam-v1/1.6.22/proto-google-iam-v1-1.6.22.jar ...\n",
      "\t[SUCCESSFUL ] com.google.api.grpc#proto-google-iam-v1;1.6.22!proto-google-iam-v1.jar (13ms)\n",
      "downloading https://repo1.maven.org/maven2/com/google/protobuf/protobuf-java/3.21.10/protobuf-java-3.21.10.jar ...\n",
      "\t[SUCCESSFUL ] com.google.protobuf#protobuf-java;3.21.10!protobuf-java.jar(bundle) (16ms)\n",
      "downloading https://repo1.maven.org/maven2/com/google/protobuf/protobuf-java-util/3.21.10/protobuf-java-util-3.21.10.jar ...\n",
      "\t[SUCCESSFUL ] com.google.protobuf#protobuf-java-util;3.21.10!protobuf-java-util.jar(bundle) (19ms)\n",
      "downloading https://repo1.maven.org/maven2/com/google/api/grpc/proto-google-common-protos/2.11.0/proto-google-common-protos-2.11.0.jar ...\n",
      "\t[SUCCESSFUL ] com.google.api.grpc#proto-google-common-protos;2.11.0!proto-google-common-protos.jar (17ms)\n",
      "downloading https://repo1.maven.org/maven2/org/threeten/threetenbp/1.6.4/threetenbp-1.6.4.jar ...\n",
      "\t[SUCCESSFUL ] org.threeten#threetenbp;1.6.4!threetenbp.jar (14ms)\n",
      "downloading https://repo1.maven.org/maven2/com/google/api/grpc/proto-google-cloud-storage-v2/2.16.0-alpha/proto-google-cloud-storage-v2-2.16.0-alpha.jar ...\n",
      "\t[SUCCESSFUL ] com.google.api.grpc#proto-google-cloud-storage-v2;2.16.0-alpha!proto-google-cloud-storage-v2.jar (14ms)\n",
      "downloading https://repo1.maven.org/maven2/com/google/api/grpc/grpc-google-cloud-storage-v2/2.16.0-alpha/grpc-google-cloud-storage-v2-2.16.0-alpha.jar ...\n",
      "\t[SUCCESSFUL ] com.google.api.grpc#grpc-google-cloud-storage-v2;2.16.0-alpha!grpc-google-cloud-storage-v2.jar (15ms)\n",
      "downloading https://repo1.maven.org/maven2/com/google/api/grpc/gapic-google-cloud-storage-v2/2.16.0-alpha/gapic-google-cloud-storage-v2-2.16.0-alpha.jar ...\n",
      "\t[SUCCESSFUL ] com.google.api.grpc#gapic-google-cloud-storage-v2;2.16.0-alpha!gapic-google-cloud-storage-v2.jar (12ms)\n",
      "downloading https://repo1.maven.org/maven2/com/fasterxml/jackson/core/jackson-core/2.14.1/jackson-core-2.14.1.jar ...\n",
      "\t[SUCCESSFUL ] com.fasterxml.jackson.core#jackson-core;2.14.1!jackson-core.jar(bundle) (13ms)\n",
      "downloading https://repo1.maven.org/maven2/com/google/code/findbugs/jsr305/3.0.2/jsr305-3.0.2.jar ...\n",
      "\t[SUCCESSFUL ] com.google.code.findbugs#jsr305;3.0.2!jsr305.jar (12ms)\n",
      "downloading https://repo1.maven.org/maven2/io/grpc/grpc-api/1.51.0/grpc-api-1.51.0.jar ...\n",
      "\t[SUCCESSFUL ] io.grpc#grpc-api;1.51.0!grpc-api.jar (14ms)\n",
      "downloading https://repo1.maven.org/maven2/io/grpc/grpc-auth/1.51.0/grpc-auth-1.51.0.jar ...\n",
      "\t[SUCCESSFUL ] io.grpc#grpc-auth;1.51.0!grpc-auth.jar (13ms)\n",
      "downloading https://repo1.maven.org/maven2/io/grpc/grpc-stub/1.51.0/grpc-stub-1.51.0.jar ...\n",
      "\t[SUCCESSFUL ] io.grpc#grpc-stub;1.51.0!grpc-stub.jar (13ms)\n",
      "downloading https://repo1.maven.org/maven2/org/checkerframework/checker-qual/3.28.0/checker-qual-3.28.0.jar ...\n",
      "\t[SUCCESSFUL ] org.checkerframework#checker-qual;3.28.0!checker-qual.jar (13ms)\n",
      "downloading https://repo1.maven.org/maven2/com/google/api/grpc/grpc-google-iam-v1/1.6.22/grpc-google-iam-v1-1.6.22.jar ...\n",
      "\t[SUCCESSFUL ] com.google.api.grpc#grpc-google-iam-v1;1.6.22!grpc-google-iam-v1.jar (12ms)\n",
      "downloading https://repo1.maven.org/maven2/io/grpc/grpc-protobuf-lite/1.51.0/grpc-protobuf-lite-1.51.0.jar ...\n",
      "\t[SUCCESSFUL ] io.grpc#grpc-protobuf-lite;1.51.0!grpc-protobuf-lite.jar (12ms)\n",
      "downloading https://repo1.maven.org/maven2/com/google/android/annotations/4.1.1.4/annotations-4.1.1.4.jar ...\n",
      "\t[SUCCESSFUL ] com.google.android#annotations;4.1.1.4!annotations.jar (12ms)\n",
      "downloading https://repo1.maven.org/maven2/org/codehaus/mojo/animal-sniffer-annotations/1.22/animal-sniffer-annotations-1.22.jar ...\n",
      "\t[SUCCESSFUL ] org.codehaus.mojo#animal-sniffer-annotations;1.22!animal-sniffer-annotations.jar (13ms)\n",
      "downloading https://repo1.maven.org/maven2/io/grpc/grpc-netty-shaded/1.51.0/grpc-netty-shaded-1.51.0.jar ...\n",
      "\t[SUCCESSFUL ] io.grpc#grpc-netty-shaded;1.51.0!grpc-netty-shaded.jar (49ms)\n",
      "downloading https://repo1.maven.org/maven2/io/perfmark/perfmark-api/0.26.0/perfmark-api-0.26.0.jar ...\n",
      "\t[SUCCESSFUL ] io.perfmark#perfmark-api;0.26.0!perfmark-api.jar (12ms)\n",
      "downloading https://repo1.maven.org/maven2/io/grpc/grpc-googleapis/1.51.0/grpc-googleapis-1.51.0.jar ...\n",
      "\t[SUCCESSFUL ] io.grpc#grpc-googleapis;1.51.0!grpc-googleapis.jar (12ms)\n",
      "downloading https://repo1.maven.org/maven2/io/grpc/grpc-xds/1.51.0/grpc-xds-1.51.0.jar ...\n",
      "\t[SUCCESSFUL ] io.grpc#grpc-xds;1.51.0!grpc-xds.jar (54ms)\n",
      "downloading https://repo1.maven.org/maven2/io/opencensus/opencensus-proto/0.2.0/opencensus-proto-0.2.0.jar ...\n",
      "\t[SUCCESSFUL ] io.opencensus#opencensus-proto;0.2.0!opencensus-proto.jar (14ms)\n",
      "downloading https://repo1.maven.org/maven2/io/grpc/grpc-services/1.51.0/grpc-services-1.51.0.jar ...\n",
      "\t[SUCCESSFUL ] io.grpc#grpc-services;1.51.0!grpc-services.jar (14ms)\n",
      "downloading https://repo1.maven.org/maven2/com/google/re2j/re2j/1.6/re2j-1.6.jar ...\n",
      "\t[SUCCESSFUL ] com.google.re2j#re2j;1.6!re2j.jar (14ms)\n",
      "downloading https://repo1.maven.org/maven2/dk/brics/automaton/automaton/1.11-8/automaton-1.11-8.jar ...\n",
      "\t[SUCCESSFUL ] dk.brics.automaton#automaton;1.11-8!automaton.jar (13ms)\n",
      "downloading https://repo1.maven.org/maven2/org/slf4j/slf4j-api/1.7.16/slf4j-api-1.7.16.jar ...\n",
      "\t[SUCCESSFUL ] org.slf4j#slf4j-api;1.7.16!slf4j-api.jar (28ms)\n",
      ":: resolution report :: resolve 16238ms :: artifacts dl 3739ms\n",
      "\t:: modules in use:\n",
      "\tcom.amazonaws#aws-java-sdk-bundle;1.11.828 from central in [default]\n",
      "\tcom.fasterxml.jackson.core#jackson-core;2.14.1 from central in [default]\n",
      "\tcom.github.universal-automata#liblevenshtein;3.0.0 from central in [default]\n",
      "\tcom.google.android#annotations;4.1.1.4 from central in [default]\n",
      "\tcom.google.api#api-common;2.2.2 from central in [default]\n",
      "\tcom.google.api#gax;2.20.1 from central in [default]\n",
      "\tcom.google.api#gax-grpc;2.20.1 from central in [default]\n",
      "\tcom.google.api#gax-httpjson;0.105.1 from central in [default]\n",
      "\tcom.google.api-client#google-api-client;2.1.1 from central in [default]\n",
      "\tcom.google.api.grpc#gapic-google-cloud-storage-v2;2.16.0-alpha from central in [default]\n",
      "\tcom.google.api.grpc#grpc-google-cloud-storage-v2;2.16.0-alpha from central in [default]\n",
      "\tcom.google.api.grpc#grpc-google-iam-v1;1.6.22 from central in [default]\n",
      "\tcom.google.api.grpc#proto-google-cloud-storage-v2;2.16.0-alpha from central in [default]\n",
      "\tcom.google.api.grpc#proto-google-common-protos;2.11.0 from central in [default]\n",
      "\tcom.google.api.grpc#proto-google-iam-v1;1.6.22 from central in [default]\n",
      "\tcom.google.apis#google-api-services-storage;v1-rev20220705-2.0.0 from central in [default]\n",
      "\tcom.google.auth#google-auth-library-credentials;1.13.0 from central in [default]\n",
      "\tcom.google.auth#google-auth-library-oauth2-http;1.13.0 from central in [default]\n",
      "\tcom.google.auto.value#auto-value-annotations;1.10.1 from central in [default]\n",
      "\tcom.google.cloud#google-cloud-core;2.9.0 from central in [default]\n",
      "\tcom.google.cloud#google-cloud-core-grpc;2.9.0 from central in [default]\n",
      "\tcom.google.cloud#google-cloud-core-http;2.9.0 from central in [default]\n",
      "\tcom.google.cloud#google-cloud-storage;2.16.0 from central in [default]\n",
      "\tcom.google.code.findbugs#jsr305;3.0.2 from central in [default]\n",
      "\tcom.google.code.gson#gson;2.10 from central in [default]\n",
      "\tcom.google.errorprone#error_prone_annotations;2.16 from central in [default]\n",
      "\tcom.google.guava#failureaccess;1.0.1 from central in [default]\n",
      "\tcom.google.guava#guava;31.1-jre from central in [default]\n",
      "\tcom.google.guava#listenablefuture;9999.0-empty-to-avoid-conflict-with-guava from central in [default]\n",
      "\tcom.google.http-client#google-http-client;1.42.3 from central in [default]\n",
      "\tcom.google.http-client#google-http-client-apache-v2;1.42.3 from central in [default]\n",
      "\tcom.google.http-client#google-http-client-appengine;1.42.3 from central in [default]\n",
      "\tcom.google.http-client#google-http-client-gson;1.42.3 from central in [default]\n",
      "\tcom.google.http-client#google-http-client-jackson2;1.42.3 from central in [default]\n",
      "\tcom.google.j2objc#j2objc-annotations;1.3 from central in [default]\n",
      "\tcom.google.oauth-client#google-oauth-client;1.34.1 from central in [default]\n",
      "\tcom.google.protobuf#protobuf-java;3.21.10 from central in [default]\n",
      "\tcom.google.protobuf#protobuf-java-util;3.21.10 from central in [default]\n",
      "\tcom.google.re2j#re2j;1.6 from central in [default]\n",
      "\tcom.johnsnowlabs.nlp#spark-nlp_2.12;4.4.0 from central in [default]\n",
      "\tcom.johnsnowlabs.nlp#tensorflow-cpu_2.12;0.4.4 from central in [default]\n",
      "\tcom.navigamez#greex;1.0 from central in [default]\n",
      "\tcom.typesafe#config;1.4.2 from central in [default]\n",
      "\tcommons-codec#commons-codec;1.15 from central in [default]\n",
      "\tdk.brics.automaton#automaton;1.11-8 from central in [default]\n",
      "\tgraphframes#graphframes;0.8.2-spark3.1-s_2.12 from spark-packages in [default]\n",
      "\tio.grpc#grpc-alts;1.51.0 from central in [default]\n",
      "\tio.grpc#grpc-api;1.51.0 from central in [default]\n",
      "\tio.grpc#grpc-auth;1.51.0 from central in [default]\n",
      "\tio.grpc#grpc-context;1.51.0 from central in [default]\n",
      "\tio.grpc#grpc-core;1.51.0 from central in [default]\n",
      "\tio.grpc#grpc-googleapis;1.51.0 from central in [default]\n",
      "\tio.grpc#grpc-grpclb;1.51.0 from central in [default]\n",
      "\tio.grpc#grpc-netty-shaded;1.51.0 from central in [default]\n",
      "\tio.grpc#grpc-protobuf;1.51.0 from central in [default]\n",
      "\tio.grpc#grpc-protobuf-lite;1.51.0 from central in [default]\n",
      "\tio.grpc#grpc-services;1.51.0 from central in [default]\n",
      "\tio.grpc#grpc-stub;1.51.0 from central in [default]\n",
      "\tio.grpc#grpc-xds;1.51.0 from central in [default]\n",
      "\tio.opencensus#opencensus-api;0.31.1 from central in [default]\n",
      "\tio.opencensus#opencensus-contrib-http-util;0.31.1 from central in [default]\n",
      "\tio.opencensus#opencensus-proto;0.2.0 from central in [default]\n",
      "\tio.perfmark#perfmark-api;0.26.0 from central in [default]\n",
      "\tit.unimi.dsi#fastutil;7.0.12 from central in [default]\n",
      "\tjavax.annotation#javax.annotation-api;1.3.2 from central in [default]\n",
      "\torg.checkerframework#checker-qual;3.28.0 from central in [default]\n",
      "\torg.codehaus.mojo#animal-sniffer-annotations;1.22 from central in [default]\n",
      "\torg.conscrypt#conscrypt-openjdk-uber;2.5.2 from central in [default]\n",
      "\torg.projectlombok#lombok;1.16.8 from central in [default]\n",
      "\torg.rocksdb#rocksdbjni;6.29.5 from central in [default]\n",
      "\torg.slf4j#slf4j-api;1.7.16 from central in [default]\n",
      "\torg.threeten#threetenbp;1.6.4 from central in [default]\n",
      "\t:: evicted modules:\n",
      "\tcom.google.protobuf#protobuf-java-util;3.0.0-beta-3 by [com.google.protobuf#protobuf-java-util;3.21.10] in [default]\n",
      "\tcom.google.protobuf#protobuf-java;3.0.0-beta-3 by [com.google.protobuf#protobuf-java;3.21.10] in [default]\n",
      "\tcom.google.code.gson#gson;2.3 by [com.google.code.gson#gson;2.10] in [default]\n",
      "\t---------------------------------------------------------------------\n",
      "\t|                  |            modules            ||   artifacts   |\n",
      "\t|       conf       | number| search|dwnlded|evicted|| number|dwnlded|\n",
      "\t---------------------------------------------------------------------\n",
      "\t|      default     |   75  |   75  |   75  |   3   ||   72  |   72  |\n",
      "\t---------------------------------------------------------------------\n",
      ":: retrieving :: org.apache.spark#spark-submit-parent-a906b7f4-930b-4f1f-9173-df8911ab0563\n",
      "\tconfs: [default]\n",
      "\t72 artifacts copied, 0 already retrieved (614853kB/783ms)\n",
      "Setting default log level to \"WARN\".\n",
      "To adjust logging level use sc.setLogLevel(newLevel). For SparkR, use setLogLevel(newLevel).\n",
      "23/11/09 00:43:01 INFO org.apache.spark.SparkEnv: Registering MapOutputTracker\n",
      "23/11/09 00:43:02 INFO org.apache.spark.SparkEnv: Registering BlockManagerMaster\n",
      "23/11/09 00:43:02 INFO org.apache.spark.SparkEnv: Registering BlockManagerMasterHeartbeat\n",
      "23/11/09 00:43:02 INFO org.apache.spark.SparkEnv: Registering OutputCommitCoordinator\n",
      "23/11/09 00:43:14 WARN org.apache.spark.deploy.yarn.Client: Same path resource file:///root/.ivy2/jars/com.johnsnowlabs.nlp_spark-nlp_2.12-4.4.0.jar added multiple times to distributed cache.\n",
      "23/11/09 00:43:14 WARN org.apache.spark.deploy.yarn.Client: Same path resource file:///root/.ivy2/jars/graphframes_graphframes-0.8.2-spark3.1-s_2.12.jar added multiple times to distributed cache.\n",
      "23/11/09 00:43:14 WARN org.apache.spark.deploy.yarn.Client: Same path resource file:///root/.ivy2/jars/com.typesafe_config-1.4.2.jar added multiple times to distributed cache.\n",
      "23/11/09 00:43:14 WARN org.apache.spark.deploy.yarn.Client: Same path resource file:///root/.ivy2/jars/org.rocksdb_rocksdbjni-6.29.5.jar added multiple times to distributed cache.\n",
      "23/11/09 00:43:14 WARN org.apache.spark.deploy.yarn.Client: Same path resource file:///root/.ivy2/jars/com.amazonaws_aws-java-sdk-bundle-1.11.828.jar added multiple times to distributed cache.\n",
      "23/11/09 00:43:14 WARN org.apache.spark.deploy.yarn.Client: Same path resource file:///root/.ivy2/jars/com.github.universal-automata_liblevenshtein-3.0.0.jar added multiple times to distributed cache.\n",
      "23/11/09 00:43:14 WARN org.apache.spark.deploy.yarn.Client: Same path resource file:///root/.ivy2/jars/com.google.cloud_google-cloud-storage-2.16.0.jar added multiple times to distributed cache.\n",
      "23/11/09 00:43:14 WARN org.apache.spark.deploy.yarn.Client: Same path resource file:///root/.ivy2/jars/com.navigamez_greex-1.0.jar added multiple times to distributed cache.\n",
      "23/11/09 00:43:14 WARN org.apache.spark.deploy.yarn.Client: Same path resource file:///root/.ivy2/jars/com.johnsnowlabs.nlp_tensorflow-cpu_2.12-0.4.4.jar added multiple times to distributed cache.\n",
      "23/11/09 00:43:14 WARN org.apache.spark.deploy.yarn.Client: Same path resource file:///root/.ivy2/jars/it.unimi.dsi_fastutil-7.0.12.jar added multiple times to distributed cache.\n",
      "23/11/09 00:43:14 WARN org.apache.spark.deploy.yarn.Client: Same path resource file:///root/.ivy2/jars/org.projectlombok_lombok-1.16.8.jar added multiple times to distributed cache.\n",
      "23/11/09 00:43:14 WARN org.apache.spark.deploy.yarn.Client: Same path resource file:///root/.ivy2/jars/com.google.guava_guava-31.1-jre.jar added multiple times to distributed cache.\n",
      "23/11/09 00:43:14 WARN org.apache.spark.deploy.yarn.Client: Same path resource file:///root/.ivy2/jars/com.google.guava_failureaccess-1.0.1.jar added multiple times to distributed cache.\n",
      "23/11/09 00:43:14 WARN org.apache.spark.deploy.yarn.Client: Same path resource file:///root/.ivy2/jars/com.google.guava_listenablefuture-9999.0-empty-to-avoid-conflict-with-guava.jar added multiple times to distributed cache.\n",
      "23/11/09 00:43:14 WARN org.apache.spark.deploy.yarn.Client: Same path resource file:///root/.ivy2/jars/com.google.errorprone_error_prone_annotations-2.16.jar added multiple times to distributed cache.\n",
      "23/11/09 00:43:14 WARN org.apache.spark.deploy.yarn.Client: Same path resource file:///root/.ivy2/jars/com.google.j2objc_j2objc-annotations-1.3.jar added multiple times to distributed cache.\n",
      "23/11/09 00:43:14 WARN org.apache.spark.deploy.yarn.Client: Same path resource file:///root/.ivy2/jars/com.google.http-client_google-http-client-1.42.3.jar added multiple times to distributed cache.\n",
      "23/11/09 00:43:14 WARN org.apache.spark.deploy.yarn.Client: Same path resource file:///root/.ivy2/jars/io.opencensus_opencensus-contrib-http-util-0.31.1.jar added multiple times to distributed cache.\n",
      "23/11/09 00:43:14 WARN org.apache.spark.deploy.yarn.Client: Same path resource file:///root/.ivy2/jars/com.google.http-client_google-http-client-jackson2-1.42.3.jar added multiple times to distributed cache.\n",
      "23/11/09 00:43:14 WARN org.apache.spark.deploy.yarn.Client: Same path resource file:///root/.ivy2/jars/com.google.http-client_google-http-client-gson-1.42.3.jar added multiple times to distributed cache.\n",
      "23/11/09 00:43:14 WARN org.apache.spark.deploy.yarn.Client: Same path resource file:///root/.ivy2/jars/com.google.api-client_google-api-client-2.1.1.jar added multiple times to distributed cache.\n",
      "23/11/09 00:43:14 WARN org.apache.spark.deploy.yarn.Client: Same path resource file:///root/.ivy2/jars/commons-codec_commons-codec-1.15.jar added multiple times to distributed cache.\n",
      "23/11/09 00:43:14 WARN org.apache.spark.deploy.yarn.Client: Same path resource file:///root/.ivy2/jars/com.google.oauth-client_google-oauth-client-1.34.1.jar added multiple times to distributed cache.\n",
      "23/11/09 00:43:14 WARN org.apache.spark.deploy.yarn.Client: Same path resource file:///root/.ivy2/jars/com.google.http-client_google-http-client-apache-v2-1.42.3.jar added multiple times to distributed cache.\n",
      "23/11/09 00:43:14 WARN org.apache.spark.deploy.yarn.Client: Same path resource file:///root/.ivy2/jars/com.google.apis_google-api-services-storage-v1-rev20220705-2.0.0.jar added multiple times to distributed cache.\n",
      "23/11/09 00:43:14 WARN org.apache.spark.deploy.yarn.Client: Same path resource file:///root/.ivy2/jars/com.google.code.gson_gson-2.10.jar added multiple times to distributed cache.\n",
      "23/11/09 00:43:14 WARN org.apache.spark.deploy.yarn.Client: Same path resource file:///root/.ivy2/jars/com.google.cloud_google-cloud-core-2.9.0.jar added multiple times to distributed cache.\n",
      "23/11/09 00:43:14 WARN org.apache.spark.deploy.yarn.Client: Same path resource file:///root/.ivy2/jars/com.google.auto.value_auto-value-annotations-1.10.1.jar added multiple times to distributed cache.\n",
      "23/11/09 00:43:14 WARN org.apache.spark.deploy.yarn.Client: Same path resource file:///root/.ivy2/jars/com.google.cloud_google-cloud-core-http-2.9.0.jar added multiple times to distributed cache.\n",
      "23/11/09 00:43:14 WARN org.apache.spark.deploy.yarn.Client: Same path resource file:///root/.ivy2/jars/com.google.http-client_google-http-client-appengine-1.42.3.jar added multiple times to distributed cache.\n",
      "23/11/09 00:43:14 WARN org.apache.spark.deploy.yarn.Client: Same path resource file:///root/.ivy2/jars/com.google.api_gax-httpjson-0.105.1.jar added multiple times to distributed cache.\n",
      "23/11/09 00:43:14 WARN org.apache.spark.deploy.yarn.Client: Same path resource file:///root/.ivy2/jars/com.google.cloud_google-cloud-core-grpc-2.9.0.jar added multiple times to distributed cache.\n",
      "23/11/09 00:43:14 WARN org.apache.spark.deploy.yarn.Client: Same path resource file:///root/.ivy2/jars/io.grpc_grpc-core-1.51.0.jar added multiple times to distributed cache.\n",
      "23/11/09 00:43:14 WARN org.apache.spark.deploy.yarn.Client: Same path resource file:///root/.ivy2/jars/com.google.api_gax-2.20.1.jar added multiple times to distributed cache.\n",
      "23/11/09 00:43:14 WARN org.apache.spark.deploy.yarn.Client: Same path resource file:///root/.ivy2/jars/com.google.api_gax-grpc-2.20.1.jar added multiple times to distributed cache.\n",
      "23/11/09 00:43:14 WARN org.apache.spark.deploy.yarn.Client: Same path resource file:///root/.ivy2/jars/io.grpc_grpc-alts-1.51.0.jar added multiple times to distributed cache.\n",
      "23/11/09 00:43:14 WARN org.apache.spark.deploy.yarn.Client: Same path resource file:///root/.ivy2/jars/io.grpc_grpc-grpclb-1.51.0.jar added multiple times to distributed cache.\n",
      "23/11/09 00:43:14 WARN org.apache.spark.deploy.yarn.Client: Same path resource file:///root/.ivy2/jars/org.conscrypt_conscrypt-openjdk-uber-2.5.2.jar added multiple times to distributed cache.\n",
      "23/11/09 00:43:14 WARN org.apache.spark.deploy.yarn.Client: Same path resource file:///root/.ivy2/jars/io.grpc_grpc-protobuf-1.51.0.jar added multiple times to distributed cache.\n",
      "23/11/09 00:43:14 WARN org.apache.spark.deploy.yarn.Client: Same path resource file:///root/.ivy2/jars/com.google.auth_google-auth-library-credentials-1.13.0.jar added multiple times to distributed cache.\n",
      "23/11/09 00:43:14 WARN org.apache.spark.deploy.yarn.Client: Same path resource file:///root/.ivy2/jars/com.google.auth_google-auth-library-oauth2-http-1.13.0.jar added multiple times to distributed cache.\n",
      "23/11/09 00:43:14 WARN org.apache.spark.deploy.yarn.Client: Same path resource file:///root/.ivy2/jars/com.google.api_api-common-2.2.2.jar added multiple times to distributed cache.\n",
      "23/11/09 00:43:14 WARN org.apache.spark.deploy.yarn.Client: Same path resource file:///root/.ivy2/jars/javax.annotation_javax.annotation-api-1.3.2.jar added multiple times to distributed cache.\n",
      "23/11/09 00:43:14 WARN org.apache.spark.deploy.yarn.Client: Same path resource file:///root/.ivy2/jars/io.opencensus_opencensus-api-0.31.1.jar added multiple times to distributed cache.\n",
      "23/11/09 00:43:14 WARN org.apache.spark.deploy.yarn.Client: Same path resource file:///root/.ivy2/jars/io.grpc_grpc-context-1.51.0.jar added multiple times to distributed cache.\n",
      "23/11/09 00:43:14 WARN org.apache.spark.deploy.yarn.Client: Same path resource file:///root/.ivy2/jars/com.google.api.grpc_proto-google-iam-v1-1.6.22.jar added multiple times to distributed cache.\n",
      "23/11/09 00:43:14 WARN org.apache.spark.deploy.yarn.Client: Same path resource file:///root/.ivy2/jars/com.google.protobuf_protobuf-java-3.21.10.jar added multiple times to distributed cache.\n",
      "23/11/09 00:43:14 WARN org.apache.spark.deploy.yarn.Client: Same path resource file:///root/.ivy2/jars/com.google.protobuf_protobuf-java-util-3.21.10.jar added multiple times to distributed cache.\n",
      "23/11/09 00:43:14 WARN org.apache.spark.deploy.yarn.Client: Same path resource file:///root/.ivy2/jars/com.google.api.grpc_proto-google-common-protos-2.11.0.jar added multiple times to distributed cache.\n",
      "23/11/09 00:43:14 WARN org.apache.spark.deploy.yarn.Client: Same path resource file:///root/.ivy2/jars/org.threeten_threetenbp-1.6.4.jar added multiple times to distributed cache.\n",
      "23/11/09 00:43:14 WARN org.apache.spark.deploy.yarn.Client: Same path resource file:///root/.ivy2/jars/com.google.api.grpc_proto-google-cloud-storage-v2-2.16.0-alpha.jar added multiple times to distributed cache.\n",
      "23/11/09 00:43:14 WARN org.apache.spark.deploy.yarn.Client: Same path resource file:///root/.ivy2/jars/com.google.api.grpc_grpc-google-cloud-storage-v2-2.16.0-alpha.jar added multiple times to distributed cache.\n",
      "23/11/09 00:43:14 WARN org.apache.spark.deploy.yarn.Client: Same path resource file:///root/.ivy2/jars/com.google.api.grpc_gapic-google-cloud-storage-v2-2.16.0-alpha.jar added multiple times to distributed cache.\n",
      "23/11/09 00:43:14 WARN org.apache.spark.deploy.yarn.Client: Same path resource file:///root/.ivy2/jars/com.fasterxml.jackson.core_jackson-core-2.14.1.jar added multiple times to distributed cache.\n",
      "23/11/09 00:43:14 WARN org.apache.spark.deploy.yarn.Client: Same path resource file:///root/.ivy2/jars/com.google.code.findbugs_jsr305-3.0.2.jar added multiple times to distributed cache.\n",
      "23/11/09 00:43:14 WARN org.apache.spark.deploy.yarn.Client: Same path resource file:///root/.ivy2/jars/io.grpc_grpc-api-1.51.0.jar added multiple times to distributed cache.\n",
      "23/11/09 00:43:14 WARN org.apache.spark.deploy.yarn.Client: Same path resource file:///root/.ivy2/jars/io.grpc_grpc-auth-1.51.0.jar added multiple times to distributed cache.\n",
      "23/11/09 00:43:14 WARN org.apache.spark.deploy.yarn.Client: Same path resource file:///root/.ivy2/jars/io.grpc_grpc-stub-1.51.0.jar added multiple times to distributed cache.\n",
      "23/11/09 00:43:14 WARN org.apache.spark.deploy.yarn.Client: Same path resource file:///root/.ivy2/jars/org.checkerframework_checker-qual-3.28.0.jar added multiple times to distributed cache.\n",
      "23/11/09 00:43:14 WARN org.apache.spark.deploy.yarn.Client: Same path resource file:///root/.ivy2/jars/com.google.api.grpc_grpc-google-iam-v1-1.6.22.jar added multiple times to distributed cache.\n",
      "23/11/09 00:43:14 WARN org.apache.spark.deploy.yarn.Client: Same path resource file:///root/.ivy2/jars/io.grpc_grpc-protobuf-lite-1.51.0.jar added multiple times to distributed cache.\n",
      "23/11/09 00:43:14 WARN org.apache.spark.deploy.yarn.Client: Same path resource file:///root/.ivy2/jars/com.google.android_annotations-4.1.1.4.jar added multiple times to distributed cache.\n",
      "23/11/09 00:43:14 WARN org.apache.spark.deploy.yarn.Client: Same path resource file:///root/.ivy2/jars/org.codehaus.mojo_animal-sniffer-annotations-1.22.jar added multiple times to distributed cache.\n",
      "23/11/09 00:43:14 WARN org.apache.spark.deploy.yarn.Client: Same path resource file:///root/.ivy2/jars/io.grpc_grpc-netty-shaded-1.51.0.jar added multiple times to distributed cache.\n",
      "23/11/09 00:43:14 WARN org.apache.spark.deploy.yarn.Client: Same path resource file:///root/.ivy2/jars/io.perfmark_perfmark-api-0.26.0.jar added multiple times to distributed cache.\n",
      "23/11/09 00:43:14 WARN org.apache.spark.deploy.yarn.Client: Same path resource file:///root/.ivy2/jars/io.grpc_grpc-googleapis-1.51.0.jar added multiple times to distributed cache.\n",
      "23/11/09 00:43:14 WARN org.apache.spark.deploy.yarn.Client: Same path resource file:///root/.ivy2/jars/io.grpc_grpc-xds-1.51.0.jar added multiple times to distributed cache.\n",
      "23/11/09 00:43:14 WARN org.apache.spark.deploy.yarn.Client: Same path resource file:///root/.ivy2/jars/io.opencensus_opencensus-proto-0.2.0.jar added multiple times to distributed cache.\n",
      "23/11/09 00:43:14 WARN org.apache.spark.deploy.yarn.Client: Same path resource file:///root/.ivy2/jars/io.grpc_grpc-services-1.51.0.jar added multiple times to distributed cache.\n",
      "23/11/09 00:43:14 WARN org.apache.spark.deploy.yarn.Client: Same path resource file:///root/.ivy2/jars/com.google.re2j_re2j-1.6.jar added multiple times to distributed cache.\n",
      "23/11/09 00:43:14 WARN org.apache.spark.deploy.yarn.Client: Same path resource file:///root/.ivy2/jars/dk.brics.automaton_automaton-1.11-8.jar added multiple times to distributed cache.\n",
      "23/11/09 00:43:14 WARN org.apache.spark.deploy.yarn.Client: Same path resource file:///root/.ivy2/jars/org.slf4j_slf4j-api-1.7.16.jar added multiple times to distributed cache.\n"
     ]
    }
   ],
   "source": [
    "from pyspark.sql import SparkSession\n",
    "spark = SparkSession.builder.appName('MarketBasketAnalysis').getOrCreate()\n",
    "\n",
    "%matplotlib inline"
   ]
  },
  {
   "cell_type": "markdown",
   "metadata": {},
   "source": [
    "### Import Data"
   ]
  },
  {
   "cell_type": "code",
   "execution_count": 10,
   "metadata": {},
   "outputs": [
    {
     "name": "stderr",
     "output_type": "stream",
     "text": [
      "                                                                                \r"
     ]
    }
   ],
   "source": [
    "# Import Data\n",
    "dataDir = \"gs://msca-bdp-student-gcs/instacart/\"\n",
    "aisles = spark.read.csv(dataDir + \"aisles.csv\", header=True, inferSchema=True)\n",
    "departments = spark.read.csv(dataDir + \"departments.csv\", header=True, inferSchema=True)\n",
    "order_products_prior = spark.read.csv(dataDir + \"order_products__prior.csv\", header=True, inferSchema=True)\n",
    "order_products_train = spark.read.csv(dataDir + \"order_products__train.csv\", header=True, inferSchema=True)\n",
    "orders = spark.read.csv(dataDir + \"orders.csv\", header=True, inferSchema=True)\n",
    "products = spark.read.csv(dataDir + \"products.csv\", header=True, inferSchema=True)\n",
    "\n",
    "# Create Temporary Tables\n",
    "aisles.createOrReplaceTempView(\"aisles\")\n",
    "departments.createOrReplaceTempView(\"departments\")\n",
    "order_products_prior.createOrReplaceTempView(\"order_products_prior\")\n",
    "order_products_train.createOrReplaceTempView(\"order_products_train\")\n",
    "orders.createOrReplaceTempView(\"orders\")\n",
    "products.createOrReplaceTempView(\"products\")"
   ]
  },
  {
   "cell_type": "code",
   "execution_count": 11,
   "metadata": {},
   "outputs": [
    {
     "name": "stderr",
     "output_type": "stream",
     "text": [
      "                                                                                \r"
     ]
    },
    {
     "data": {
      "text/plain": [
       "3421083"
      ]
     },
     "execution_count": 11,
     "metadata": {},
     "output_type": "execute_result"
    }
   ],
   "source": [
    "orders.count()"
   ]
  },
  {
   "cell_type": "code",
   "execution_count": 12,
   "metadata": {},
   "outputs": [
    {
     "name": "stdout",
     "output_type": "stream",
     "text": [
      "+--------+-------+--------+------------+---------+-----------------+----------------------+\n",
      "|order_id|user_id|eval_set|order_number|order_dow|order_hour_of_day|days_since_prior_order|\n",
      "+--------+-------+--------+------------+---------+-----------------+----------------------+\n",
      "| 2539329|      1|   prior|           1|        2|                8|                  null|\n",
      "| 2398795|      1|   prior|           2|        3|                7|                  15.0|\n",
      "|  473747|      1|   prior|           3|        3|               12|                  21.0|\n",
      "| 2254736|      1|   prior|           4|        4|                7|                  29.0|\n",
      "|  431534|      1|   prior|           5|        4|               15|                  28.0|\n",
      "| 3367565|      1|   prior|           6|        2|                7|                  19.0|\n",
      "|  550135|      1|   prior|           7|        1|                9|                  20.0|\n",
      "| 3108588|      1|   prior|           8|        1|               14|                  14.0|\n",
      "| 2295261|      1|   prior|           9|        1|               16|                   0.0|\n",
      "| 2550362|      1|   prior|          10|        4|                8|                  30.0|\n",
      "| 1187899|      1|   train|          11|        4|                8|                  14.0|\n",
      "| 2168274|      2|   prior|           1|        2|               11|                  null|\n",
      "| 1501582|      2|   prior|           2|        5|               10|                  10.0|\n",
      "| 1901567|      2|   prior|           3|        1|               10|                   3.0|\n",
      "|  738281|      2|   prior|           4|        2|               10|                   8.0|\n",
      "| 1673511|      2|   prior|           5|        3|               11|                   8.0|\n",
      "| 1199898|      2|   prior|           6|        2|                9|                  13.0|\n",
      "| 3194192|      2|   prior|           7|        2|               12|                  14.0|\n",
      "|  788338|      2|   prior|           8|        1|               15|                  27.0|\n",
      "| 1718559|      2|   prior|           9|        2|                9|                   8.0|\n",
      "+--------+-------+--------+------------+---------+-----------------+----------------------+\n",
      "only showing top 20 rows\n",
      "\n"
     ]
    }
   ],
   "source": [
    "orders.show()"
   ]
  },
  {
   "cell_type": "markdown",
   "metadata": {},
   "source": [
    "## Exploratory Data Analysis\n",
    "\n",
    "Now that you have created DataFrames, you can perform exploratory data analysis using Spark SQL.  The following queries showcase some of the quick insight you can gain from the Instacart dataset.\n",
    "\n",
    "\n",
    "### Orders by Day of Week\n",
    "\n",
    "Sunday is the most popular day for the total number of orders while Thursday has the least number of orders."
   ]
  },
  {
   "cell_type": "code",
   "execution_count": 13,
   "metadata": {},
   "outputs": [
    {
     "name": "stderr",
     "output_type": "stream",
     "text": [
      "                                                                                \r"
     ]
    },
    {
     "data": {
      "text/plain": [
       "<AxesSubplot:xlabel='day_of_week'>"
      ]
     },
     "execution_count": 13,
     "metadata": {},
     "output_type": "execute_result"
    },
    {
     "data": {
      "image/png": "[encoded data removed]",
      "text/plain": [
       "<Figure size 1500x400 with 1 Axes>"
      ]
     },
     "metadata": {},
     "output_type": "display_data"
    }
   ],
   "source": [
    "obw = spark.sql('''select \n",
    "  count(order_id) as total_orders, \n",
    "  (case \n",
    "     when order_dow = '0' then 'Sunday'\n",
    "     when order_dow = '1' then 'Monday'\n",
    "     when order_dow = '2' then 'Tuesday'\n",
    "     when order_dow = '3' then 'Wednesday'\n",
    "     when order_dow = '4' then 'Thursday'\n",
    "     when order_dow = '5' then 'Friday'\n",
    "     when order_dow = '6' then 'Saturday'              \n",
    "   end) as day_of_week \n",
    "  from orders  \n",
    " group by order_dow \n",
    " order by total_orders desc''')\n",
    "\n",
    "obw.toPandas().plot(y='total_orders' , x ='day_of_week', kind='bar', figsize=(15,4), rot=0)"
   ]
  },
  {
   "cell_type": "markdown",
   "metadata": {},
   "source": [
    "### Orders by Hour\n",
    "\n",
    "When breaking down the hours typically people are ordering their groceries from Instacart during business working hours with highest number orders at 10:00am."
   ]
  },
  {
   "cell_type": "code",
   "execution_count": 14,
   "metadata": {},
   "outputs": [
    {
     "name": "stderr",
     "output_type": "stream",
     "text": [
      "                                                                                \r"
     ]
    },
    {
     "data": {
      "text/plain": [
       "<AxesSubplot:>"
      ]
     },
     "execution_count": 14,
     "metadata": {},
     "output_type": "execute_result"
    },
    {
     "data": {
      "image/png": "[encoded data removed]",
      "text/plain": [
       "<Figure size 1500x400 with 1 Axes>"
      ]
     },
     "metadata": {},
     "output_type": "display_data"
    }
   ],
   "source": [
    "obh = spark.sql('''select \n",
    "  count(order_id) as total_orders, \n",
    "  order_hour_of_day as hour \n",
    "  from orders \n",
    " group by order_hour_of_day \n",
    " order by order_hour_of_day''')\n",
    "\n",
    "obh.toPandas().plot(y='total_orders', figsize=(15,4))"
   ]
  },
  {
   "cell_type": "markdown",
   "metadata": {},
   "source": [
    "### Top 10 Popular Items"
   ]
  },
  {
   "cell_type": "code",
   "execution_count": 15,
   "metadata": {},
   "outputs": [
    {
     "name": "stderr",
     "output_type": "stream",
     "text": [
      "[Stage 47:=========================================>                (5 + 2) / 7]\r"
     ]
    },
    {
     "name": "stdout",
     "output_type": "stream",
     "text": [
      "+------+----------------------+\n",
      "|orders|popular_product       |\n",
      "+------+----------------------+\n",
      "|472565|Banana                |\n",
      "|379450|Bag of Organic Bananas|\n",
      "|264683|Organic Strawberries  |\n",
      "|241921|Organic Baby Spinach  |\n",
      "|213584|Organic Hass Avocado  |\n",
      "|176815|Organic Avocado       |\n",
      "|152657|Large Lemon           |\n",
      "|142951|Strawberries          |\n",
      "|140627|Limes                 |\n",
      "|137905|Organic Whole Milk    |\n",
      "+------+----------------------+\n",
      "\n"
     ]
    },
    {
     "name": "stderr",
     "output_type": "stream",
     "text": [
      "                                                                                \r"
     ]
    }
   ],
   "source": [
    "spark.sql('''select count(opp.order_id) as orders, p.product_name as popular_product\n",
    "  from order_products_prior opp, products p\n",
    " where p.product_id = opp.product_id \n",
    " group by popular_product \n",
    " order by orders desc \n",
    " limit 10''').show(truncate = False)"
   ]
  },
  {
   "cell_type": "markdown",
   "metadata": {},
   "source": [
    "### Understand shelf space by department\n",
    "\n",
    "As we dive deeper into our market basket analysis, we can gain insight on the number of products by department to understand how much shelf space is being used."
   ]
  },
  {
   "cell_type": "code",
   "execution_count": 16,
   "metadata": {},
   "outputs": [
    {
     "name": "stderr",
     "output_type": "stream",
     "text": [
      "[Stage 50:>                                                         (0 + 1) / 1]\r"
     ]
    },
    {
     "name": "stdout",
     "output_type": "stream",
     "text": [
      "+---------------+--------+\n",
      "|     department|products|\n",
      "+---------------+--------+\n",
      "|  personal care|    6563|\n",
      "|         snacks|    6264|\n",
      "|         pantry|    5371|\n",
      "|      beverages|    4365|\n",
      "|         frozen|    4007|\n",
      "|     dairy eggs|    3449|\n",
      "|      household|    3084|\n",
      "|   canned goods|    2092|\n",
      "|dry goods pasta|    1858|\n",
      "|        produce|    1684|\n",
      "+---------------+--------+\n",
      "\n"
     ]
    },
    {
     "name": "stderr",
     "output_type": "stream",
     "text": [
      "                                                                                \r"
     ]
    }
   ],
   "source": [
    "spark.sql('''select d.department, count(distinct p.product_id) as products\n",
    "  from products p\n",
    "    inner join departments d\n",
    "      on d.department_id = p.department_id\n",
    " group by d.department\n",
    " order by products desc\n",
    " limit 10''').show()"
   ]
  },
  {
   "cell_type": "markdown",
   "metadata": {},
   "source": [
    "### Max Products By Department"
   ]
  },
  {
   "cell_type": "code",
   "execution_count": 17,
   "metadata": {},
   "outputs": [
    {
     "name": "stdout",
     "output_type": "stream",
     "text": [
      "+-------------+---------------+--------+\n",
      "|department_id|     department|products|\n",
      "+-------------+---------------+--------+\n",
      "|           16|     dairy eggs|    3449|\n",
      "|           14|      breakfast|    1115|\n",
      "|            3|         bakery|    1516|\n",
      "|           21|        missing|    1258|\n",
      "|            6|  international|    1139|\n",
      "|            1|         frozen|    4007|\n",
      "|           11|  personal care|    6563|\n",
      "|            9|dry goods pasta|    1858|\n",
      "|           13|         pantry|    5371|\n",
      "|           19|         snacks|    6264|\n",
      "|           20|           deli|    1322|\n",
      "|            7|      beverages|    4365|\n",
      "|            4|        produce|    1684|\n",
      "|           15|   canned goods|    2092|\n",
      "|           12|   meat seafood|     907|\n",
      "|           18|         babies|    1081|\n",
      "|            2|          other|     548|\n",
      "|            8|           pets|     972|\n",
      "|            5|        alcohol|    1054|\n",
      "|           10|           bulk|      38|\n",
      "+-------------+---------------+--------+\n",
      "only showing top 20 rows\n",
      "\n"
     ]
    }
   ],
   "source": [
    "spark.sql('''select countbydept.*\n",
    "  from (\n",
    "  -- from product table, let's count number of records per dept\n",
    "  -- and then sort it by count (highest to lowest) \n",
    "  select department_id, count(1) as counter\n",
    "    from products\n",
    "   group by department_id\n",
    "   order by counter asc \n",
    "  ) as maxcount\n",
    "inner join (\n",
    "  -- let's repeat the exercise, but this time let's join\n",
    "  -- products and departments tables to get a full list of dept and \n",
    "  -- prod count\n",
    "  select\n",
    "    d.department_id,\n",
    "    d.department,\n",
    "    count(1) as products\n",
    "    from departments d\n",
    "      inner join products p\n",
    "         on p.department_id = d.department_id\n",
    "   group by d.department_id, d.department \n",
    "   order by products desc\n",
    "  ) countbydept \n",
    "  -- combine the two queries's results by matching the product count\n",
    "  on countbydept.products = maxcount.counter''').show()"
   ]
  },
  {
   "cell_type": "markdown",
   "metadata": {},
   "source": [
    "## Association Mining"
   ]
  },
  {
   "cell_type": "markdown",
   "metadata": {},
   "source": [
    "### Organize Shopping Basket\n",
    "\n",
    "To prepare our data for downstream processing, we will organize our data by shopping basket. That is, each row of our DataFrame represents an order_id with each items column containing an array of items."
   ]
  },
  {
   "cell_type": "code",
   "execution_count": 18,
   "metadata": {},
   "outputs": [
    {
     "name": "stderr",
     "output_type": "stream",
     "text": [
      "[Stage 67:=============================>                            (1 + 1) / 2]\r"
     ]
    },
    {
     "name": "stdout",
     "output_type": "stream",
     "text": [
      "+--------+----------------------------------------------------------------------------------------------------+\n",
      "|order_id|                                                                                               items|\n",
      "+--------+----------------------------------------------------------------------------------------------------+\n",
      "|       1|[Bag of Organic Bananas, Cucumber Kirby, Lightly Smoked Sardines in Olive Oil, Organic 4% Milk Fa...|\n",
      "|      96|[Roasted Turkey, Organic Cucumber, Organic Raspberries, Organic Whole Strawberries, Organic Grape...|\n",
      "|     112|[Umcka Elderberry Intensive Cold + Flu Berry Flavor, Fresh Cauliflower, I Heart Baby Kale, Hickor...|\n",
      "|     218|         [Okra, Black Plum, Citrus Mandarins Organic, Organic Yellow Peaches, Natural Artisan Water]|\n",
      "|     456|[Petite Peas, Large Lemon, Pure Ground, Max Gel Clog Remover, Green Beans, Extra Virgin Olive Oil...|\n",
      "|     473|[Organic Whole Milk with DHA Omega-3, Basil Pesto, Multi Grain Waffles, Baby Wipes, Mushroom Ravi...|\n",
      "|     631|[Organic Cilantro, Organic Red Radish, Bunch, Garlic, Organic Chili Powder Blend, Mild Salsa, Dai...|\n",
      "|     762|                    [Organic Cucumber, Organic Romaine Lettuce, Celery Hearts, Organic Strawberries]|\n",
      "|     774|                      [Nacho Cheese Sauce, Deli-Sliced Hot Jalapeño Peppers, Ice Cream Variety Pack]|\n",
      "|     844|[Organic Red Radish, Bunch, Baby Spinach, Organic Shredded Carrots, Granny Smith Apples, Green Be...|\n",
      "|     904|                                                     [Zero Calorie Cola, Cup Noodles Chicken Flavor]|\n",
      "|     988|[Whipped Light Cream, Original, Complete ActionPacs Lemon Burst Dishwasher Detergent, Classic Van...|\n",
      "|    1032|[Organic Living Butter Lettuce, Organic Bartlett Pear, Goodness Grapeness Organic Juice Drink, Or...|\n",
      "|    1077|                      [Sparkling Water, Organic Strawberries, Celery Sticks, Bag of Organic Bananas]|\n",
      "|    1119|[Shallot, Large Lemon, Fresh Cauliflower, Boneless Skinless Chicken Breast, Organic Grade A Free ...|\n",
      "|    1139|[Cinnamon Rolls with Icing, Red Vine Tomato, Picnic Potato Salad, Flaky Biscuits, Organic Strawbe...|\n",
      "|    1143|[Water, Natural Premium Coconut Water, Organic Red Radish, Bunch, Organic Capellini Whole Wheat P...|\n",
      "|    1145|[Mexican Casserole Bowl, Light Mozzarella String Cheese, 2% Low Fat Cottage Cheese, Instant Whole...|\n",
      "|    1275|[Small Hass Avocado, Organic Garnet Sweet Potato (Yam), Boneless Skinless Chicken Breast, Extra V...|\n",
      "|    1280|[Vanilla Soy Milk, French Vanilla Creamer, Organic Half & Half, Lactose Free Half & Half, Organic...|\n",
      "+--------+----------------------------------------------------------------------------------------------------+\n",
      "only showing top 20 rows\n",
      "\n"
     ]
    },
    {
     "name": "stderr",
     "output_type": "stream",
     "text": [
      "                                                                                \r"
     ]
    }
   ],
   "source": [
    "# Organize the by shopping basket\n",
    "from pyspark.sql.functions import collect_set, col, count\n",
    "rawData = spark.sql(\"select p.product_name, o.order_id from products p inner join order_products_train o where o.product_id = p.product_id\")\n",
    "baskets = rawData.groupBy('order_id').agg(collect_set('product_name').alias('items'))\n",
    "baskets.createOrReplaceTempView('baskets')\n",
    "baskets.show(truncate=100)"
   ]
  },
  {
   "cell_type": "markdown",
   "metadata": {},
   "source": [
    "### Frequent Itemsets\n",
    "\n",
    "The FP-Growth (Frequent Pattern growth) algorithm is currently one of the fastest approaches to frequent item set mining. FP-Growth is an improvement of apriori designed to eliminate some of the heavy bottlenecks in apriori. It works well with any distributed system focused on MapReduce. FP-Growth simplifies all the problems present in apriori by using a structure called an FP-Tree.\n",
    "\n",
    "Given a dataset of transactions, the first step of FP-growth is to calculate item frequencies and identify frequent items. Different from Apriori-like algorithms designed for the same purpose, the second step of FP-growth uses a suffix tree (FP-tree) structure to encode transactions without generating candidate sets explicitly, which are usually expensive to generate."
   ]
  },
  {
   "cell_type": "code",
   "execution_count": 19,
   "metadata": {},
   "outputs": [
    {
     "name": "stderr",
     "output_type": "stream",
     "text": [
      "[Stage 83:>                                                         (0 + 1) / 1]\r"
     ]
    },
    {
     "name": "stdout",
     "output_type": "stream",
     "text": [
      "+--------------------------------------------------+----+\n",
      "|items                                             |freq|\n",
      "+--------------------------------------------------+----+\n",
      "|[Crispy Wheat, Crackers]                          |254 |\n",
      "|[Bok Choy]                                        |259 |\n",
      "|[Organic Lime]                                    |140 |\n",
      "|[Canned Aranciata Orange]                         |285 |\n",
      "|[Cheddar Cheese Nut Thins Cracker Snacks]         |135 |\n",
      "|[Hazelnut Spread With Skim Milk & Cocoa]          |283 |\n",
      "|[Organic Greek Lowfat Yogurt With Strawberries]   |263 |\n",
      "|[Wild Berry Smoothie]                             |262 |\n",
      "|[Coconut Sparkling Water]                         |143 |\n",
      "|[Creamy Swiss Original Wedges Cheese]             |141 |\n",
      "|[Whole Grain Oat Cereal]                          |301 |\n",
      "|[Orange Juice 100% Juice]                         |136 |\n",
      "|[Jalapeno Hummus]                                 |298 |\n",
      "|[Squeeze Real Mayonnaise]                         |135 |\n",
      "|[California Sourdough Bread]                      |268 |\n",
      "|[Mini Seedless Cucumbers]                         |294 |\n",
      "|[Sparkling Natural Spring Water]                  |265 |\n",
      "|[Cold Brew Coffee]                                |272 |\n",
      "|[Hass Avocado Variety]                            |269 |\n",
      "|[Gluten Free Cheddar Macaroni & Cheese Rice Pasta]|145 |\n",
      "+--------------------------------------------------+----+\n",
      "only showing top 20 rows\n",
      "\n"
     ]
    },
    {
     "name": "stderr",
     "output_type": "stream",
     "text": [
      "                                                                                \r"
     ]
    }
   ],
   "source": [
    "from pyspark.ml.fpm import FPGrowth\n",
    "\n",
    "#set the minimum thresholds for support and confidence\n",
    "fpGrowth = FPGrowth(itemsCol=\"items\", minSupport=0.001, minConfidence=0)\n",
    "\n",
    "model = fpGrowth.fit(baskets)\n",
    "\n",
    "#Calculate frequent itemsets\n",
    "mostPopularItemInABasket = model.freqItemsets\n",
    "mostPopularItemInABasket.createOrReplaceTempView(\"mostPopularItemInABasket\")\n",
    "\n",
    "# Display frequent itemsets.\n",
    "model.freqItemsets.show(truncate =False)"
   ]
  },
  {
   "cell_type": "code",
   "execution_count": 20,
   "metadata": {},
   "outputs": [
    {
     "name": "stderr",
     "output_type": "stream",
     "text": [
      "[Stage 86:======================================>                   (2 + 1) / 3]\r"
     ]
    },
    {
     "name": "stdout",
     "output_type": "stream",
     "text": [
      "+--------------------------------------------------------------------+----+\n",
      "|items                                                               |freq|\n",
      "+--------------------------------------------------------------------+----+\n",
      "|[Organic Hass Avocado, Organic Strawberries, Bag of Organic Bananas]|710 |\n",
      "|[Organic Raspberries, Organic Strawberries, Bag of Organic Bananas] |649 |\n",
      "|[Organic Baby Spinach, Organic Strawberries, Bag of Organic Bananas]|587 |\n",
      "|[Organic Raspberries, Organic Hass Avocado, Bag of Organic Bananas] |531 |\n",
      "|[Organic Hass Avocado, Organic Baby Spinach, Bag of Organic Bananas]|497 |\n",
      "|[Organic Avocado, Organic Baby Spinach, Banana]                     |484 |\n",
      "|[Organic Avocado, Large Lemon, Banana]                              |477 |\n",
      "|[Limes, Large Lemon, Banana]                                        |452 |\n",
      "|[Organic Cucumber, Organic Strawberries, Bag of Organic Bananas]    |424 |\n",
      "|[Limes, Organic Avocado, Large Lemon]                               |389 |\n",
      "|[Organic Raspberries, Organic Hass Avocado, Organic Strawberries]   |381 |\n",
      "|[Organic Avocado, Organic Strawberries, Banana]                     |379 |\n",
      "|[Organic Baby Spinach, Organic Strawberries, Banana]                |376 |\n",
      "|[Organic Blueberries, Organic Strawberries, Bag of Organic Bananas] |374 |\n",
      "|[Large Lemon, Organic Baby Spinach, Banana]                         |371 |\n",
      "|[Organic Cucumber, Organic Hass Avocado, Bag of Organic Bananas]    |366 |\n",
      "|[Organic Lemon, Organic Hass Avocado, Bag of Organic Bananas]       |353 |\n",
      "|[Limes, Organic Avocado, Banana]                                    |352 |\n",
      "|[Organic Whole Milk, Organic Strawberries, Bag of Organic Bananas]  |339 |\n",
      "|[Organic Avocado, Large Lemon, Organic Baby Spinach]                |334 |\n",
      "+--------------------------------------------------------------------+----+\n",
      "\n"
     ]
    },
    {
     "name": "stderr",
     "output_type": "stream",
     "text": [
      "                                                                                \r"
     ]
    }
   ],
   "source": [
    "#only show item groups larger than 2\n",
    "spark.sql('''select items, freq from mostPopularItemInABasket \n",
    "          where size(items) > 2 order by freq desc limit 20''').show(truncate =False)"
   ]
  },
  {
   "cell_type": "markdown",
   "metadata": {},
   "source": [
    "### Association Rules"
   ]
  },
  {
   "cell_type": "code",
   "execution_count": 21,
   "metadata": {},
   "outputs": [
    {
     "name": "stderr",
     "output_type": "stream",
     "text": [
      "[Stage 91:======================================>                   (2 + 1) / 3]\r"
     ]
    },
    {
     "name": "stdout",
     "output_type": "stream",
     "text": [
      "+----------------------------+-------------------------+-------------------+------------------+---------------------+\n",
      "|antecedent                  |consequent               |confidence         |lift              |support              |\n",
      "+----------------------------+-------------------------+-------------------+------------------+---------------------+\n",
      "|[Yellow Onions, Large Lemon]|[Limes]                  |0.23962516733601072|5.2114998476695895|0.0013642356850520924|\n",
      "|[Yellow Onions, Large Lemon]|[Organic Avocado]        |0.2101740294511379 |3.7220575287156636|0.001196564260073623 |\n",
      "|[Yellow Onions, Large Lemon]|[Organic Baby Spinach]   |0.19812583668005354|2.656980059786707 |0.0011279714044006128|\n",
      "|[Yellow Onions, Large Lemon]|[Banana]                 |0.34404283801874164|2.410633169582456 |0.001958707100884848 |\n",
      "|[Yellow Onions, Banana]     |[Limes]                  |0.14285714285714285|3.106935663375246 |0.001166078546441174 |\n",
      "|[Yellow Onions, Banana]     |[Organic Avocado]        |0.17740429505135388|3.1417249493039674|0.001448071397541327 |\n",
      "|[Yellow Onions, Banana]     |[Organic Zucchini]       |0.12605042016806722|3.604042183445616 |0.0010288928350951536|\n",
      "|[Yellow Onions, Banana]     |[Large Lemon]            |0.23996265172735762|3.8703453682230933|0.001958707100884848 |\n",
      "|[Yellow Onions, Banana]     |[Strawberries]           |0.1400560224089636 |2.8297829757095325|0.0011432142612168373|\n",
      "|[Yellow Onions, Banana]     |[Organic Baby Spinach]   |0.17553688141923435|2.3540493330065737|0.0014328285407251026|\n",
      "|[Green Bell Pepper]         |[Orange Bell Pepper]     |0.10035700119000397|7.0642391465339225|0.001928221387252399 |\n",
      "|[Green Bell Pepper]         |[Organic Red Bell Pepper]|0.10234034113447045|5.611355545304109 |0.00196632852929296  |\n",
      "|[Green Bell Pepper]         |[Organic Cilantro]       |0.09401031336771122|3.498298130080551 |0.001806278532722603 |\n",
      "|[Green Bell Pepper]         |[Organic Tomato Cluster] |0.05593018643395478|2.891467230816695 |0.001074621405543827 |\n",
      "|[Green Bell Pepper]         |[Asparagus]              |0.07973026576755256|2.7045833611930723|0.001531907110030562 |\n",
      "|[Green Bell Pepper]         |[Limes]                  |0.13685045616818722|2.9762989397267825|0.002629392800798726 |\n",
      "|[Green Bell Pepper]         |[Michigan Organic Kale]  |0.05751685838952796|2.872755794606614 |0.001105107119176276 |\n",
      "|[Green Bell Pepper]         |[Broccoli Crown]         |0.06307021023403411|2.822434929944537 |0.0012118071168898475|\n",
      "|[Green Bell Pepper]         |[Organic Strawberries]   |0.1182070606902023 |1.4237038944465534|0.00227118566561745  |\n",
      "|[Green Bell Pepper]         |[Yellow Onions]          |0.10987703292344307|3.8322316886900696|0.002111135669047093 |\n",
      "|[Green Bell Pepper]         |[Organic Avocado]        |0.128520428401428  |2.2760206357299184|0.0024693428042283686|\n",
      "|[Green Bell Pepper]         |[Organic Yellow Onion]   |0.128520428401428  |3.9307778298654927|0.0024693428042283686|\n",
      "|[Green Bell Pepper]         |[Organic Zucchini]       |0.09520031733439112|2.7219739457677323|0.0018291428179469395|\n",
      "|[Green Bell Pepper]         |[Large Lemon]            |0.1305037683458945 |2.104888622113887 |0.0025074499462689297|\n",
      "|[Green Bell Pepper]         |[Red Peppers]            |0.1915906386354621 |8.653499519697194 |0.003681149921118216 |\n",
      "+----------------------------+-------------------------+-------------------+------------------+---------------------+\n",
      "only showing top 25 rows\n",
      "\n"
     ]
    },
    {
     "name": "stderr",
     "output_type": "stream",
     "text": [
      "                                                                                \r"
     ]
    }
   ],
   "source": [
    "model.associationRules.show(25, truncate=False)"
   ]
  },
  {
   "cell_type": "code",
   "execution_count": 22,
   "metadata": {},
   "outputs": [
    {
     "name": "stderr",
     "output_type": "stream",
     "text": [
      "[Stage 97:======================================>                   (2 + 1) / 3]\r"
     ]
    },
    {
     "name": "stdout",
     "output_type": "stream",
     "text": [
      "+------------------------------------------------------------------+------------------------+-------------------+------------------+---------------------+\n",
      "|antecedent                                                        |consequent              |confidence         |lift              |support              |\n",
      "+------------------------------------------------------------------+------------------------+-------------------+------------------+---------------------+\n",
      "|[Organic Raspberries, Organic Hass Avocado, Organic Strawberries] |[Bag of Organic Bananas]|0.5984251968503937 |5.072272070642333 |0.0017376856770495927|\n",
      "|[Organic Cucumber, Organic Hass Avocado, Organic Strawberries]    |[Bag of Organic Bananas]|0.546875           |4.635330870478036 |0.0010669999771357147|\n",
      "|[Organic Kiwi, Organic Hass Avocado]                              |[Bag of Organic Bananas]|0.5459770114942529 |4.627719489738336 |0.001448071397541327 |\n",
      "|[Organic Navel Orange, Organic Raspberries]                       |[Bag of Organic Bananas]|0.5412186379928315 |4.587387356098284 |0.0011508356896249496|\n",
      "|[Yellow Onions, Strawberries]                                     |[Banana]                |0.5357142857142857 |3.7536332219526702|0.0011432142612168373|\n",
      "|[Organic Whole String Cheese, Organic Hass Avocado]               |[Bag of Organic Bananas]|0.5314685314685315 |4.504745125675359 |0.0011584571180330617|\n",
      "|[Organic Navel Orange, Organic Hass Avocado]                      |[Bag of Organic Bananas]|0.5283018867924528 |4.477904539027839 |0.0014937999679900007|\n",
      "|[Organic Raspberries, Organic Hass Avocado]                       |[Bag of Organic Bananas]|0.521099116781158  |4.416853618458589 |0.004046978484707604 |\n",
      "|[Organic D'Anjou Pears, Organic Hass Avocado]                     |[Bag of Organic Bananas]|0.5170454545454546 |4.3824946411792345|0.0013870999702764292|\n",
      "|[Organic Unsweetened Almond Milk, Organic Hass Avocado]           |[Bag of Organic Bananas]|0.5141065830721003 |4.357584667849303 |0.0012499142589304088|\n",
      "|[Organic Broccoli, Organic Hass Avocado]                          |[Bag of Organic Bananas]|0.5048231511254019 |4.278897986822536 |0.001196564260073623 |\n",
      "|[Organic Lemon, Organic Raspberries]                              |[Bag of Organic Bananas]|0.4989106753812636 |4.228783643804924 |0.0017453071054577048|\n",
      "|[Organic Hass Avocado, Organic Baby Spinach, Organic Strawberries]|[Bag of Organic Bananas]|0.49393939393939396|4.1866468953096865|0.0012422928305222964|\n",
      "|[Organic Fuji Apple, Strawberries]                                |[Banana]                |0.4915254237288136 |3.4440114985599646|0.001105107119176276 |\n",
      "|[Honeycrisp Apple, Strawberries]                                  |[Banana]                |0.4868421052631579 |3.4111965069675145|0.001409964255500766 |\n",
      "|[Organic Large Extra Fancy Fuji Apple, Organic Hass Avocado]      |[Bag of Organic Bananas]|0.4838709677419355 |4.101306576644161 |0.0018291428179469395|\n",
      "|[Organic Gala Apples, Organic Hass Avocado]                       |[Bag of Organic Bananas]|0.4837905236907731 |4.100624730164253 |0.0014785571111737763|\n",
      "|[Organic Navel Orange, Organic Strawberries]                      |[Bag of Organic Bananas]|0.4821002386634845 |4.086297817493356 |0.0015395285384386741|\n",
      "|[Organic Kiwi, Organic Raspberries]                               |[Bag of Organic Bananas]|0.4792332268370607 |4.061996928944697 |0.0011432142612168373|\n",
      "|[Organic Carrot Bunch, Organic Hass Avocado]                      |[Bag of Organic Bananas]|0.47315436241610737|4.010472269913116 |0.001074621405543827 |\n",
      "|[Organic Yellow Squash]                                           |[Organic Zucchini]      |0.46770025839793283|13.372517586431547|0.0013794785418683169|\n",
      "|[Strawberries, Organic Avocado]                                   |[Banana]                |0.4643478260869565 |3.2535839962108017|0.0020349213849659704|\n",
      "|[Organic Kiwi, Organic Raspberries]                               |[Organic Strawberries]  |0.46325878594249204|5.57955957818326  |0.001105107119176276 |\n",
      "|[Bunched Cilantro, Large Lemon]                                   |[Limes]                 |0.46228710462287104|10.05407404449897 |0.001448071397541327 |\n",
      "|[Organic Fuji Apple, Organic Avocado]                             |[Banana]                |0.46216216216216216|3.2382695255332226|0.0013032642577871945|\n",
      "+------------------------------------------------------------------+------------------------+-------------------+------------------+---------------------+\n",
      "only showing top 25 rows\n",
      "\n"
     ]
    },
    {
     "name": "stderr",
     "output_type": "stream",
     "text": [
      "                                                                                \r"
     ]
    }
   ],
   "source": [
    "#sort by confidence\n",
    "model.associationRules.orderBy(\"confidence\", ascending=False).show(25, truncate=False)"
   ]
  },
  {
   "cell_type": "markdown",
   "metadata": {},
   "source": [
    "### Predictions"
   ]
  },
  {
   "cell_type": "code",
   "execution_count": 23,
   "metadata": {},
   "outputs": [
    {
     "name": "stderr",
     "output_type": "stream",
     "text": [
      "[Stage 104:======================================>                  (4 + 2) / 6]\r"
     ]
    },
    {
     "name": "stdout",
     "output_type": "stream",
     "text": [
      "+--------+----------------------------------------------------------------------+----------------------------------------------------------------------+\n",
      "|order_id|                                                                 items|                                                            prediction|\n",
      "+--------+----------------------------------------------------------------------+----------------------------------------------------------------------+\n",
      "|     762|[Organic Cucumber, Organic Romaine Lettuce, Celery Hearts, Organic ...|[Bag of Organic Bananas, Crackers Cheddar Bunnies Snack Packs, Bake...|\n",
      "|     844|[Organic Red Radish, Bunch, Baby Spinach, Organic Shredded Carrots,...|[Large Lemon, Strawberries, Banana, Limes, Organic Strawberries, Ba...|\n",
      "|     988|[Whipped Light Cream, Original, Complete ActionPacs Lemon Burst Dis...|                                                                    []|\n",
      "|    1077|[Sparkling Water, Organic Strawberries, Celery Sticks, Bag of Organ...|[Crackers Cheddar Bunnies Snack Packs, Baked Aged White Cheddar Ric...|\n",
      "|    1139|[Cinnamon Rolls with Icing, Red Vine Tomato, Picnic Potato Salad, F...|[Eggo Homestyle Waffles, Sweet Potato Yam, Raisin Bran Cereal, Hint...|\n",
      "|    1143|[Water, Natural Premium Coconut Water, Organic Red Radish, Bunch, O...|[Limes, Organic Avocado, Organic Yellow Onion, Bag of Organic Banan...|\n",
      "|    1280|[Vanilla Soy Milk, French Vanilla Creamer, Organic Half & Half, Lac...|[Whipped Cream Cheese, Large Alfresco Eggs, Grated Parmesan, Organi...|\n",
      "|    1342|[Raw Shrimp, Seedless Cucumbers, Versatile Stain Remover, Organic S...|[Strawberries, Crackers Cheddar Bunnies Snack Packs, Baked Aged Whi...|\n",
      "|    1350|[Mocha Frappucino Chilled Coffee Drink, Bare Fruit Banana Chips, Pr...|                                                                    []|\n",
      "|    1468|[Pomegranate Seeds, Organic Red Radish, Bunch, Natural Mini Pork Pe...|[Organic Cilantro, Limes, Michigan Organic Kale, Organic Italian Pa...|\n",
      "|    1591|[Cracked Wheat, Strawberry Rhubarb Yoghurt, Organic Bunny Fruit Sna...|[Limes, Organic Whole Milk, Organic Strawberries, Organic Avocado, ...|\n",
      "|    1721|[Organic Thompson Seedless Raisins, Whole Milk Plain Yogurt, Tomato...|[Whipped Cream Cheese, Large Alfresco Eggs, Grated Parmesan, Organi...|\n",
      "|    1890|[Vanilla Almond Breeze Almond Milk, Apple Honeycrisp Organic, Hass ...|[Organic Navel Orange, Limes, Organic Whole Milk, Organic Strawberr...|\n",
      "|    1955|[Light in Sodium Black Bean Vegetable Enchilada Entree, Organic Gar...|[Organic Strawberries, Organic Avocado, Organic Blueberries, Organi...|\n",
      "|    2711|[Granny Smith Apples, Alpine Spring Water, Mountain Spring Water, H...|                                   [Large Lemon, Strawberries, Banana]|\n",
      "|    2888|[Shredded Sharp Cheddar Cheese, Organic Raspberries, Clover Honey, ...|[Banana, Bag of Organic Bananas, Crackers Cheddar Bunnies Snack Pac...|\n",
      "|    3010|[Organic Extra Virgin Olive Oil, Brown Eggs, Pure Coconut Water, Or...|[Banana, Crackers Cheddar Bunnies Snack Packs, Organic Baby Kale Mi...|\n",
      "|    3037|[Fat Free Milk, Extra Strong 30 Gallon Large Trash Bags, Orange Cal...|                                                              [Banana]|\n",
      "|    3179|[Caramel Almond and Sea Salt Nut Bar, White Chocolate Macadamia Nut...|[Sparkling Lemon Water, Peach Pear Flavored Sparkling Water, Organi...|\n",
      "|    3200|[Tall Kitchen Bag With Febreze Odor Shield, Pineapple Spears, Grann...|[Hass Avocados, Raspberries, Bag of Organic Bananas, Packaged Grape...|\n",
      "+--------+----------------------------------------------------------------------+----------------------------------------------------------------------+\n",
      "only showing top 20 rows\n",
      "\n"
     ]
    },
    {
     "name": "stderr",
     "output_type": "stream",
     "text": [
      "                                                                                \r"
     ]
    }
   ],
   "source": [
    "# transform examines the input items against all the association rules and summarize the\n",
    "# consequents as prediction\n",
    "model.transform(baskets).show(truncate=70)"
   ]
  },
  {
   "cell_type": "code",
   "execution_count": null,
   "metadata": {},
   "outputs": [],
   "source": []
  }
 ],
 "metadata": {
  "kernelspec": {
   "display_name": "Python 3",
   "language": "python",
   "name": "python3"
  },
  "language_info": {
   "codemirror_mode": {
    "name": "ipython",
    "version": 3
   },
   "file_extension": ".py",
   "mimetype": "text/x-python",
   "name": "python",
   "nbconvert_exporter": "python",
   "pygments_lexer": "ipython3",
   "version": "3.8.15"
  }
 },
 "nbformat": 4,
 "nbformat_minor": 4
}
